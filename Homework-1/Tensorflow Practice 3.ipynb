{
  "nbformat": 4,
  "nbformat_minor": 0,
  "metadata": {
    "colab": {
      "name": "TensorflowPractice3.ipynb",
      "provenance": []
    },
    "kernelspec": {
      "name": "python3",
      "display_name": "Python 3"
    },
    "accelerator": "GPU"
  },
  "cells": [
    {
      "cell_type": "markdown",
      "metadata": {
        "id": "ssd0sbQESJ8J",
        "colab_type": "text"
      },
      "source": [
        "# **TENSORFLOW PRACTICE 3** - Linear Regression and Gradient Descent"
      ]
    },
    {
      "cell_type": "code",
      "metadata": {
        "id": "qqYUn8gLRu0E",
        "colab_type": "code",
        "colab": {}
      },
      "source": [
        "import tensorflow as tf\n",
        "import numpy as np\n",
        "import matplotlib.pyplot as plt"
      ],
      "execution_count": 0,
      "outputs": []
    },
    {
      "cell_type": "markdown",
      "metadata": {
        "id": "bdJNqqbg_jKK",
        "colab_type": "text"
      },
      "source": [
        "## **Simple linear regression**"
      ]
    },
    {
      "cell_type": "code",
      "metadata": {
        "id": "Kl0BDTPgSjIX",
        "colab_type": "code",
        "colab": {}
      },
      "source": [
        "x_data = np.float32(np.random.rand(1,100))\n",
        "W_true = 0.3\n",
        "b_true = 0.2\n",
        "y_data = np.dot([W_true], x_data) + b_true"
      ],
      "execution_count": 0,
      "outputs": []
    },
    {
      "cell_type": "code",
      "metadata": {
        "id": "alZAY_cSS5OU",
        "colab_type": "code",
        "colab": {
          "base_uri": "https://localhost:8080/",
          "height": 306
        },
        "outputId": "04887f25-f1c7-440e-de4f-fdfedd40e2be"
      },
      "source": [
        "print(x_data)"
      ],
      "execution_count": 244,
      "outputs": [
        {
          "output_type": "stream",
          "text": [
            "[[0.6632241  0.37071165 0.6864714  0.30515108 0.91369295 0.12955654\n",
            "  0.3152662  0.3194518  0.94851583 0.96154153 0.85230166 0.1671658\n",
            "  0.9936949  0.7360542  0.22702    0.7623927  0.54875124 0.42818308\n",
            "  0.67478967 0.5204219  0.71685255 0.99080205 0.4873828  0.9023527\n",
            "  0.08871285 0.15404205 0.07516748 0.5046148  0.55644435 0.5682289\n",
            "  0.5629851  0.729199   0.9764374  0.977779   0.7364967  0.24823909\n",
            "  0.2510371  0.01652958 0.95159787 0.23619789 0.16293333 0.7547333\n",
            "  0.17401175 0.6848751  0.8254503  0.34704852 0.39747983 0.03426387\n",
            "  0.37350437 0.48224753 0.3717537  0.2010599  0.72267324 0.88007563\n",
            "  0.39645985 0.04863751 0.409633   0.93050677 0.98749185 0.06276414\n",
            "  0.848611   0.29431975 0.35984764 0.41795596 0.48848924 0.22476608\n",
            "  0.58457834 0.08978    0.5229144  0.90070355 0.08443277 0.741753\n",
            "  0.8687029  0.15974578 0.27073935 0.11184094 0.12101041 0.10813779\n",
            "  0.51640165 0.96180344 0.5423858  0.28717402 0.85348094 0.71110874\n",
            "  0.78820413 0.4674899  0.7440195  0.7239682  0.14370482 0.06388441\n",
            "  0.12783635 0.6245609  0.6946455  0.6637907  0.95721674 0.8459774\n",
            "  0.98402524 0.46099135 0.5609086  0.70308506]]\n"
          ],
          "name": "stdout"
        }
      ]
    },
    {
      "cell_type": "code",
      "metadata": {
        "id": "FZE7anYgVNhS",
        "colab_type": "code",
        "colab": {
          "base_uri": "https://localhost:8080/",
          "height": 306
        },
        "outputId": "9463aeab-327c-414a-a4ac-a2971403617b"
      },
      "source": [
        "print(y_data)"
      ],
      "execution_count": 245,
      "outputs": [
        {
          "output_type": "stream",
          "text": [
            "[0.39896723 0.3112135  0.40594142 0.29154532 0.47410789 0.23886696\n",
            " 0.29457986 0.29583554 0.48455475 0.48846246 0.4556905  0.25014974\n",
            " 0.49810847 0.42081625 0.268106   0.42871781 0.36462537 0.32845492\n",
            " 0.4024369  0.35612658 0.41505576 0.49724061 0.34621484 0.47070581\n",
            " 0.22661385 0.24621262 0.22255025 0.35138443 0.3669333  0.37046867\n",
            " 0.36889554 0.4187597  0.49293122 0.49333369 0.42094901 0.27447173\n",
            " 0.27531113 0.20495888 0.48547936 0.27085937 0.24888    0.42642\n",
            " 0.25220353 0.40546252 0.44763509 0.30411456 0.31924395 0.21027916\n",
            " 0.31205131 0.34467426 0.31152611 0.26031797 0.41680197 0.46402269\n",
            " 0.31893795 0.21459125 0.3228899  0.47915203 0.49624755 0.21882924\n",
            " 0.4545833  0.28829592 0.30795429 0.32538679 0.34654677 0.26742982\n",
            " 0.3753735  0.226934   0.35687432 0.47021106 0.22532983 0.42252589\n",
            " 0.46061087 0.24792373 0.2812218  0.23355228 0.23630312 0.23244134\n",
            " 0.35492049 0.48854103 0.36271574 0.2861522  0.45604428 0.41333262\n",
            " 0.43646124 0.34024697 0.42320585 0.41719046 0.24311145 0.21916532\n",
            " 0.2383509  0.38736827 0.40839366 0.39913721 0.48716502 0.45379323\n",
            " 0.49520757 0.33829741 0.36827258 0.41092552]\n"
          ],
          "name": "stdout"
        }
      ]
    },
    {
      "cell_type": "code",
      "metadata": {
        "id": "izwxUopeVPIe",
        "colab_type": "code",
        "colab": {
          "base_uri": "https://localhost:8080/",
          "height": 269
        },
        "outputId": "3195edea-3b09-47d6-b9a0-d68ed80fb2dc"
      },
      "source": [
        "\"\"\"Scatter plot of x vs y\"\"\"\n",
        "plt.plot(x_data.tolist()[0], y_data.tolist(), 'ro')\n",
        "plt.show()"
      ],
      "execution_count": 246,
      "outputs": [
        {
          "output_type": "display_data",
          "data": {
            "image/png": "[encoded data removed]",
            "text/plain": [
              "<Figure size 432x288 with 1 Axes>"
            ]
          },
          "metadata": {
            "tags": []
          }
        }
      ]
    },
    {
      "cell_type": "code",
      "metadata": {
        "id": "KAW1oNiFZXDF",
        "colab_type": "code",
        "colab": {}
      },
      "source": [
        "b = tf.Variable(tf.zeros([1]))\n",
        "W = tf.Variable(tf.random_uniform([1],-1,1))\n",
        "\n",
        "y = tf.matmul([W], x_data) + b\n",
        "loss = tf.reduce_mean(tf.square(y - y_data))\n",
        "\n",
        "optimizer = tf.train.GradientDescentOptimizer(0.1)\n",
        "train = optimizer.minimize(loss)"
      ],
      "execution_count": 0,
      "outputs": []
    },
    {
      "cell_type": "code",
      "metadata": {
        "id": "Pb3lRrO7XIic",
        "colab_type": "code",
        "colab": {
          "base_uri": "https://localhost:8080/",
          "height": 459
        },
        "outputId": "3c1882b8-8875-4fa6-90e3-62648ed78b8a"
      },
      "source": [
        "init = tf.initialize_all_variables()\n",
        "sess = tf.Session()\n",
        "sess.run(init)\n",
        "n = 500\n",
        "for step in range(n):\n",
        "  sess.run(train)\n",
        "  if step == 0:\n",
        "    W_pred = sess.run(W)\n",
        "    b_pred = sess.run(b)\n",
        "    y_init = np.dot([W_pred], x_data) + b_pred\n",
        "    print(\"Step: \", step, \"|| W = \", W_pred[0], \"|| b = \", b_pred[0])\n",
        "  elif step == (n-1):\n",
        "    W_pred = sess.run(W)\n",
        "    b_pred = sess.run(b)\n",
        "    y_pred = np.dot([W_pred], x_data) + b_pred\n",
        "    print(\"Step: \", step, \"|| W = \", W_pred[0], \"|| b = \", b_pred[0])\n",
        "  elif step%20 == 0:\n",
        "    print(\"Step: \", step)"
      ],
      "execution_count": 248,
      "outputs": [
        {
          "output_type": "stream",
          "text": [
            "Step:  0 || W =  -0.48080233 || b =  0.13007358\n",
            "Step:  20\n",
            "Step:  40\n",
            "Step:  60\n",
            "Step:  80\n",
            "Step:  100\n",
            "Step:  120\n",
            "Step:  140\n",
            "Step:  160\n",
            "Step:  180\n",
            "Step:  200\n",
            "Step:  220\n",
            "Step:  240\n",
            "Step:  260\n",
            "Step:  280\n",
            "Step:  300\n",
            "Step:  320\n",
            "Step:  340\n",
            "Step:  360\n",
            "Step:  380\n",
            "Step:  400\n",
            "Step:  420\n",
            "Step:  440\n",
            "Step:  460\n",
            "Step:  480\n",
            "Step:  499 || W =  0.29943883 || b =  0.20031415\n"
          ],
          "name": "stdout"
        }
      ]
    },
    {
      "cell_type": "code",
      "metadata": {
        "id": "TzR1qa5l82_n",
        "colab_type": "code",
        "colab": {
          "base_uri": "https://localhost:8080/",
          "height": 269
        },
        "outputId": "96a4a249-0828-4955-ebf3-89fd9d6d5e92"
      },
      "source": [
        "\"\"\"Scatter plot of x vs y prediction with the initialization value of the parameter\"\"\"\n",
        "plt.plot(x_data.tolist()[0], y_data.tolist(), 'ro', label = 'y_true')\n",
        "plt.plot(x_data.tolist()[0], y_init.tolist()[0], 'bo', label = 'y_pred')\n",
        "\n",
        "plt.legend(loc='upper left', shadow=True, fontsize='small')\n",
        "\n",
        "plt.show()"
      ],
      "execution_count": 249,
      "outputs": [
        {
          "output_type": "display_data",
          "data": {
            "image/png": "[encoded data removed]",
            "text/plain": [
              "<Figure size 432x288 with 1 Axes>"
            ]
          },
          "metadata": {
            "tags": []
          }
        }
      ]
    },
    {
      "cell_type": "code",
      "metadata": {
        "id": "0rUvW4g4YMOZ",
        "colab_type": "code",
        "colab": {
          "base_uri": "https://localhost:8080/",
          "height": 269
        },
        "outputId": "d19fa20d-b31b-4d7d-9d16-2cfbb9d9636d"
      },
      "source": [
        "\"\"\"Scatter plot of x vs y prediction with the converged parameter\"\"\"\n",
        "plt.plot(x_data.tolist()[0], y_data.tolist(), 'ro', label = 'y_true')\n",
        "plt.plot(x_data.tolist()[0], y_pred.tolist()[0], 'bo', label = 'y_pred')\n",
        "\n",
        "plt.legend(loc='upper left', shadow=True, fontsize='small')\n",
        "\n",
        "plt.show()"
      ],
      "execution_count": 250,
      "outputs": [
        {
          "output_type": "display_data",
          "data": {
            "image/png": "[encoded data removed]",
            "text/plain": [
              "<Figure size 432x288 with 1 Axes>"
            ]
          },
          "metadata": {
            "tags": []
          }
        }
      ]
    },
    {
      "cell_type": "markdown",
      "metadata": {
        "id": "7K8tehfb_uhy",
        "colab_type": "text"
      },
      "source": [
        "## **Multiple linear regression** - 2 predictors"
      ]
    },
    {
      "cell_type": "code",
      "metadata": {
        "id": "uMfCrxHI_tmr",
        "colab_type": "code",
        "colab": {}
      },
      "source": [
        "x_data = np.float32(np.random.rand(2,100))\n",
        "W_true = [0.3,-0.1]\n",
        "b_true = 0.2\n",
        "y_data = np.dot([W_true], x_data) + b_true"
      ],
      "execution_count": 0,
      "outputs": []
    },
    {
      "cell_type": "code",
      "metadata": {
        "id": "-UfuWzJqAjtS",
        "colab_type": "code",
        "colab": {
          "base_uri": "https://localhost:8080/",
          "height": 595
        },
        "outputId": "7726bdd2-0f38-4031-f1c7-3fb793281747"
      },
      "source": [
        "print(x_data)"
      ],
      "execution_count": 252,
      "outputs": [
        {
          "output_type": "stream",
          "text": [
            "[[0.06785237 0.02577973 0.45878986 0.23704669 0.66500086 0.19937977\n",
            "  0.07088875 0.60528135 0.90688413 0.78571665 0.9964096  0.8094204\n",
            "  0.812495   0.19341801 0.09070198 0.7931329  0.41675782 0.70012236\n",
            "  0.2934445  0.22504006 0.7718619  0.9107539  0.27480865 0.46637237\n",
            "  0.05955559 0.9933841  0.00464317 0.68913144 0.927247   0.57664394\n",
            "  0.02172014 0.31158412 0.25799283 0.11922442 0.9781354  0.7526824\n",
            "  0.5575448  0.49594563 0.01830266 0.82869554 0.76367337 0.78754956\n",
            "  0.22895525 0.13991378 0.17580527 0.31448165 0.8175083  0.96810555\n",
            "  0.9350384  0.8015116  0.56346285 0.84903735 0.80125165 0.9459102\n",
            "  0.7391564  0.76508164 0.7420787  0.52004516 0.0703648  0.4787848\n",
            "  0.29049468 0.61890167 0.14063661 0.2684398  0.5658001  0.7429067\n",
            "  0.10095296 0.15118808 0.7421545  0.15959917 0.02408    0.9330333\n",
            "  0.29240856 0.253913   0.50198734 0.6609687  0.5662642  0.24020347\n",
            "  0.7233131  0.51486105 0.74690074 0.08069552 0.8061218  0.7770193\n",
            "  0.9500238  0.39437485 0.04238932 0.6665036  0.56508124 0.87750775\n",
            "  0.2163253  0.4882332  0.7375749  0.7434992  0.59761024 0.7216448\n",
            "  0.5278943  0.29458535 0.9965592  0.84035987]\n",
            " [0.02231999 0.6157758  0.7851658  0.8035919  0.25139073 0.02382551\n",
            "  0.5683782  0.18498604 0.39883652 0.67022705 0.8144197  0.48130634\n",
            "  0.91374123 0.07102163 0.5963514  0.31123924 0.7604746  0.72872436\n",
            "  0.9580226  0.2285843  0.976199   0.71479404 0.93538094 0.97072333\n",
            "  0.7366528  0.47228768 0.21768107 0.19421181 0.7506403  0.45175123\n",
            "  0.88373893 0.55550224 0.65433055 0.4507193  0.9421858  0.8261362\n",
            "  0.34037653 0.3151776  0.972034   0.09768351 0.3742355  0.2586892\n",
            "  0.41845775 0.32366195 0.6527903  0.53604895 0.7004353  0.6610364\n",
            "  0.34068283 0.81604624 0.3347544  0.12519054 0.06243957 0.640024\n",
            "  0.1491677  0.1619568  0.8137125  0.48877814 0.4678051  0.54734814\n",
            "  0.34876183 0.29962635 0.39035225 0.5996712  0.06754073 0.62609327\n",
            "  0.4834832  0.42768952 0.98806125 0.6998911  0.04136967 0.91610146\n",
            "  0.43913427 0.3894504  0.42309028 0.19027753 0.64989364 0.13735174\n",
            "  0.09864895 0.1686689  0.39963087 0.40116054 0.64224654 0.31385842\n",
            "  0.7633474  0.7419614  0.23302509 0.18639313 0.97757035 0.6426941\n",
            "  0.4642903  0.8759444  0.11013956 0.10712804 0.5789291  0.1433208\n",
            "  0.6372312  0.4004549  0.5441631  0.52367353]]\n"
          ],
          "name": "stdout"
        }
      ]
    },
    {
      "cell_type": "code",
      "metadata": {
        "id": "1W8iBXpPAoMR",
        "colab_type": "code",
        "colab": {
          "base_uri": "https://localhost:8080/",
          "height": 306
        },
        "outputId": "dc14c2af-e145-4ba9-a767-b9e4f26e302a"
      },
      "source": [
        "print(y_data)"
      ],
      "execution_count": 253,
      "outputs": [
        {
          "output_type": "stream",
          "text": [
            "[[0.21812371 0.14615634 0.25912038 0.19075482 0.37436118 0.25743138\n",
            "  0.1644288  0.3630858  0.43218159 0.36869229 0.41748091 0.39469549\n",
            "  0.35237437 0.25092324 0.16757546 0.40681595 0.24897988 0.33716427\n",
            "  0.19223109 0.24465359 0.33393868 0.40174677 0.1889045  0.24283938\n",
            "  0.1442014  0.45078647 0.17962485 0.38731825 0.40311007 0.32781806\n",
            "  0.11814215 0.23792501 0.21196479 0.1906954  0.39922204 0.3431911\n",
            "  0.3332258  0.31726593 0.1082874  0.43884031 0.39167846 0.41039595\n",
            "  0.2268408  0.20960794 0.18746255 0.2407396  0.37520896 0.42432803\n",
            "  0.44644323 0.35884885 0.33556342 0.44219215 0.43413154 0.41977066\n",
            "  0.40683016 0.41332881 0.34125237 0.30713573 0.17432893 0.28890063\n",
            "  0.25227222 0.35570787 0.20315576 0.22056482 0.36298595 0.36026268\n",
            "  0.18193757 0.20258747 0.32384022 0.17789064 0.20308703 0.38829984\n",
            "  0.24380914 0.23722886 0.30828717 0.37926286 0.3048899  0.25832587\n",
            "  0.40712903 0.33759142 0.38410713 0.1840926  0.37761189 0.40171995\n",
            "  0.40867239 0.24411631 0.18941429 0.38131177 0.27176734 0.39898291\n",
            "  0.21846856 0.25887552 0.41025851 0.41233696 0.32139016 0.40216137\n",
            "  0.29464518 0.24833011 0.44455145 0.39974061]]\n"
          ],
          "name": "stdout"
        }
      ]
    },
    {
      "cell_type": "code",
      "metadata": {
        "id": "CojyNPZzAo83",
        "colab_type": "code",
        "colab": {
          "base_uri": "https://localhost:8080/",
          "height": 269
        },
        "outputId": "fe97a499-e419-45df-9ad2-3dc380df7ea4"
      },
      "source": [
        "\"\"\"Scatter plot of x1 vs y\"\"\"\n",
        "plt.plot(x_data[[0]].tolist()[0], y_data.tolist()[0], 'ro')\n",
        "plt.show()"
      ],
      "execution_count": 254,
      "outputs": [
        {
          "output_type": "display_data",
          "data": {
            "image/png": "[encoded data removed]",
            "text/plain": [
              "<Figure size 432x288 with 1 Axes>"
            ]
          },
          "metadata": {
            "tags": []
          }
        }
      ]
    },
    {
      "cell_type": "code",
      "metadata": {
        "id": "hgPxbgmbBFlh",
        "colab_type": "code",
        "colab": {}
      },
      "source": [
        "b = tf.Variable(tf.zeros([1]))\n",
        "W = tf.Variable(tf.random_uniform([1,2],-1,1))\n",
        "\n",
        "y = tf.matmul([W], x_data) + b\n",
        "loss = tf.reduce_mean(tf.square(y - y_data))\n",
        "\n",
        "optimizer = tf.train.GradientDescentOptimizer(0.1)\n",
        "train = optimizer.minimize(loss)"
      ],
      "execution_count": 0,
      "outputs": []
    },
    {
      "cell_type": "code",
      "metadata": {
        "id": "E83vird_BjPK",
        "colab_type": "code",
        "colab": {
          "base_uri": "https://localhost:8080/",
          "height": 459
        },
        "outputId": "913f9c69-1db7-412f-c8db-3dba4e9130de"
      },
      "source": [
        "init = tf.initialize_all_variables()\n",
        "sess = tf.Session()\n",
        "sess.run(init)\n",
        "n = 500\n",
        "for step in range(n):\n",
        "  sess.run(train)\n",
        "  if step == 0:\n",
        "    W_pred = sess.run(W)\n",
        "    b_pred = sess.run(b)\n",
        "    y_init = np.dot([W_pred], x_data) + b_pred\n",
        "    print(\"Step: \", step, \"|| W = \", W_pred[0], \"|| b = \", b_pred[0])\n",
        "  elif step == (n-1):\n",
        "    W_pred = sess.run(W)\n",
        "    b_pred = sess.run(b)\n",
        "    y_pred = np.dot([W_pred], x_data) + b_pred\n",
        "    print(\"Step: \", step, \"|| W = \", W_pred[0], \"|| b = \", b_pred[0])\n",
        "  elif step%20 == 0:\n",
        "    print(\"Step: \", step)"
      ],
      "execution_count": 256,
      "outputs": [
        {
          "output_type": "stream",
          "text": [
            "Step:  0 || W =  [-0.9050701  0.5556371] || b =  0.11472869\n",
            "Step:  20\n",
            "Step:  40\n",
            "Step:  60\n",
            "Step:  80\n",
            "Step:  100\n",
            "Step:  120\n",
            "Step:  140\n",
            "Step:  160\n",
            "Step:  180\n",
            "Step:  200\n",
            "Step:  220\n",
            "Step:  240\n",
            "Step:  260\n",
            "Step:  280\n",
            "Step:  300\n",
            "Step:  320\n",
            "Step:  340\n",
            "Step:  360\n",
            "Step:  380\n",
            "Step:  400\n",
            "Step:  420\n",
            "Step:  440\n",
            "Step:  460\n",
            "Step:  480\n",
            "Step:  499 || W =  [ 0.2997553  -0.09932766] || b =  0.19978485\n"
          ],
          "name": "stdout"
        }
      ]
    },
    {
      "cell_type": "code",
      "metadata": {
        "id": "QKF7GO2kBtVh",
        "colab_type": "code",
        "colab": {
          "base_uri": "https://localhost:8080/",
          "height": 269
        },
        "outputId": "e6f5a7b1-bcc8-420c-f99f-fe2986fd0b62"
      },
      "source": [
        "\"\"\"Scatter plot of x1 vs y prediction with the initialization value of the parameter\"\"\"\n",
        "plt.plot(x_data[[0]].tolist()[0], y_data.tolist()[0], 'ro', label = 'y_true')\n",
        "plt.plot(x_data[[0]].tolist()[0], y_init[0].tolist()[0], 'bo', label = 'y_pred')\n",
        "\n",
        "plt.legend(loc='upper left', shadow=True, fontsize='small')\n",
        "\n",
        "plt.show()"
      ],
      "execution_count": 257,
      "outputs": [
        {
          "output_type": "display_data",
          "data": {
            "image/png": "[encoded data removed]",
            "text/plain": [
              "<Figure size 432x288 with 1 Axes>"
            ]
          },
          "metadata": {
            "tags": []
          }
        }
      ]
    },
    {
      "cell_type": "code",
      "metadata": {
        "id": "qs3MqRQ3D4nN",
        "colab_type": "code",
        "colab": {
          "base_uri": "https://localhost:8080/",
          "height": 269
        },
        "outputId": "05b78626-a6ed-422d-9d42-a7c10ff6d2d8"
      },
      "source": [
        "\"\"\"Scatter plot of x1 vs y prediction with the converged parameter\"\"\"\n",
        "plt.plot(x_data[[0]].tolist()[0], y_data.tolist()[0], 'ro', label = 'y_true')\n",
        "plt.plot(x_data[[0]].tolist()[0], y_pred[0].tolist()[0], 'bo', label = 'y_pred')\n",
        "\n",
        "plt.legend(loc='upper left', shadow=True, fontsize='small')\n",
        "\n",
        "plt.show()"
      ],
      "execution_count": 258,
      "outputs": [
        {
          "output_type": "display_data",
          "data": {
            "image/png": "[encoded data removed]",
            "text/plain": [
              "<Figure size 432x288 with 1 Axes>"
            ]
          },
          "metadata": {
            "tags": []
          }
        }
      ]
    }
  ]
}